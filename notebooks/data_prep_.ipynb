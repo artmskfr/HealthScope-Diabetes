{
 "cells": [
  {
   "cell_type": "code",
   "execution_count": 36,
   "metadata": {},
   "outputs": [],
   "source": [
    "import seaborn as sns\n",
    "import pandas as pd\n",
    "import matplotlib.pyplot as plt\n",
    "\n",
    "pd.set_option('display.max_rows', None)\n",
    "pd.set_option('display.max_columns', None)"
   ]
  },
  {
   "cell_type": "code",
   "execution_count": 37,
   "metadata": {},
   "outputs": [],
   "source": [
    "data2015 = pd.read_csv('dataset_2015.csv')\n",
    "data2017 = pd.read_csv('dataset_2017.csv')"
   ]
  },
  {
   "cell_type": "code",
   "execution_count": 38,
   "metadata": {},
   "outputs": [
    {
     "name": "stdout",
     "output_type": "stream",
     "text": [
      " Unique coloumns 2015-2016: set()\n"
     ]
    }
   ],
   "source": [
    "# Cheking unique columns\n",
    "only_in_2015_2016 = set(data2015.columns) - set(data2017.columns)\n",
    "\n",
    "print(\" Unique coloumns 2015-2016:\", only_in_2015_2016)\n"
   ]
  },
  {
   "cell_type": "code",
   "execution_count": 39,
   "metadata": {},
   "outputs": [
    {
     "name": "stdout",
     "output_type": "stream",
     "text": [
      "(25531, 80)\n"
     ]
    }
   ],
   "source": [
    "df = pd.concat([data2015, data2017], axis=0, ignore_index=True)\n",
    "print(df.shape)"
   ]
  },
  {
   "cell_type": "code",
   "execution_count": 40,
   "metadata": {},
   "outputs": [
    {
     "name": "stdout",
     "output_type": "stream",
     "text": [
      "(7716, 80)\n"
     ]
    },
    {
     "data": {
      "text/plain": [
       "LBDGLUSI      0\n",
       "LBXGH        14\n",
       "LBXIN       172\n",
       "dtype: int64"
      ]
     },
     "execution_count": 40,
     "metadata": {},
     "output_type": "execute_result"
    }
   ],
   "source": [
    "df.head()\n",
    "#df = df.dropna(subset=['LBDGLUSI', 'LBXGH', 'LBXIN'])\n",
    "df = df.dropna(subset=['LBDGLUSI'])\n",
    "print(df.shape)\n",
    "df[['LBDGLUSI', 'LBXGH', 'LBXIN']].isna().sum()\n"
   ]
  },
  {
   "cell_type": "code",
   "execution_count": null,
   "metadata": {},
   "outputs": [],
   "source": []
  }
 ],
 "metadata": {
  "kernelspec": {
   "display_name": "envStudy",
   "language": "python",
   "name": "python3"
  },
  "language_info": {
   "codemirror_mode": {
    "name": "ipython",
    "version": 3
   },
   "file_extension": ".py",
   "mimetype": "text/x-python",
   "name": "python",
   "nbconvert_exporter": "python",
   "pygments_lexer": "ipython3",
   "version": "3.8.18"
  }
 },
 "nbformat": 4,
 "nbformat_minor": 2
}
