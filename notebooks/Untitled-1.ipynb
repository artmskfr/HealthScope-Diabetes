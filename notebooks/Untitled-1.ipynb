{
 "cells": [
  {
   "cell_type": "code",
   "execution_count": null,
   "metadata": {},
   "outputs": [],
   "source": []
  },
  {
   "cell_type": "code",
   "execution_count": 10,
   "metadata": {},
   "outputs": [
    {
     "data": {
      "text/plain": [
       "<pyreadstat._readstat_parser.metadata_container at 0x330f651f0>"
      ]
     },
     "execution_count": 10,
     "metadata": {},
     "output_type": "execute_result"
    }
   ],
   "source": [
    "import pandas as pd\n",
    "import xport\n",
    "import pyreadstat\n",
    "\n",
    "# Путь к вашему файлу .xpt\n",
    "file_path = \"../data/raw/2017-2020/P_BMX.xpt\"\n",
    "\n",
    "\n",
    "data, meta = pyreadstat.read_xport(file_path)\n",
    "\n",
    "#print(data.head())  # Печатает первые строки данных\n",
    "meta         # Выводит информацию о метаданных\n",
    "\n",
    "\n",
    "# Загрузка данных из XPT\n",
    "#with open(file_path, 'rb') as f:\n",
    "#    data = xport.to_dataframe(f)"
   ]
  },
  {
   "cell_type": "code",
   "execution_count": 5,
   "metadata": {},
   "outputs": [
    {
     "name": "stderr",
     "output_type": "stream",
     "text": [
      "/Users/artmskfr/anaconda3/envs/envStudy/lib/python3.8/site-packages/xport/__init__.py:559: SettingWithCopyWarning: \n",
      "A value is trying to be set on a copy of a slice from a DataFrame.\n",
      "Try using .loc[row_indexer,col_indexer] = value instead\n",
      "\n",
      "See the caveats in the documentation: https://pandas.pydata.org/pandas-docs/stable/user_guide/indexing.html#returning-a-view-versus-a-copy\n",
      "  super().__setitem__(key, value)\n",
      "/Users/artmskfr/anaconda3/envs/envStudy/lib/python3.8/site-packages/xport/__init__.py:559: SettingWithCopyWarning: \n",
      "A value is trying to be set on a copy of a slice from a DataFrame.\n",
      "Try using .loc[row_indexer,col_indexer] = value instead\n",
      "\n",
      "See the caveats in the documentation: https://pandas.pydata.org/pandas-docs/stable/user_guide/indexing.html#returning-a-view-versus-a-copy\n",
      "  super().__setitem__(key, value)\n"
     ]
    }
   ],
   "source": [
    "# Оставляем только нужные переменные\n",
    "columns_to_keep = [\"SEQN\", \"BMXWT\", \"BMXHT\", \"BMXBMI\", \"BMXWAIST\", \"BMXHIP\"]\n",
    "df = data[columns_to_keep]\n",
    "\n",
    "# Вычисляем дополнительные параметры\n",
    "df[\"WHtR\"] = df[\"BMXWAIST\"] / df[\"BMXHT\"]  # Соотношение талии к росту\n",
    "df[\"WHR\"] = df[\"BMXWAIST\"] / df[\"BMXHIP\"]  # Соотношение талии к бедрам"
   ]
  },
  {
   "cell_type": "code",
   "execution_count": 6,
   "metadata": {},
   "outputs": [
    {
     "data": {
      "text/html": [
       "<div>\n",
       "<style scoped>\n",
       "    .dataframe tbody tr th:only-of-type {\n",
       "        vertical-align: middle;\n",
       "    }\n",
       "\n",
       "    .dataframe tbody tr th {\n",
       "        vertical-align: top;\n",
       "    }\n",
       "\n",
       "    .dataframe thead th {\n",
       "        text-align: right;\n",
       "    }\n",
       "</style>\n",
       "<table border=\"1\" class=\"dataframe\">\n",
       "  <thead>\n",
       "    <tr style=\"text-align: right;\">\n",
       "      <th></th>\n",
       "      <th>SEQN</th>\n",
       "      <th>BMXWT</th>\n",
       "      <th>BMXHT</th>\n",
       "      <th>BMXBMI</th>\n",
       "      <th>BMXWAIST</th>\n",
       "      <th>BMXHIP</th>\n",
       "      <th>WHtR</th>\n",
       "      <th>WHR</th>\n",
       "    </tr>\n",
       "  </thead>\n",
       "  <tbody>\n",
       "    <tr>\n",
       "      <th>0</th>\n",
       "      <td>109263.0</td>\n",
       "      <td>NaN</td>\n",
       "      <td>NaN</td>\n",
       "      <td>NaN</td>\n",
       "      <td>NaN</td>\n",
       "      <td>NaN</td>\n",
       "      <td>NaN</td>\n",
       "      <td>NaN</td>\n",
       "    </tr>\n",
       "    <tr>\n",
       "      <th>1</th>\n",
       "      <td>109264.0</td>\n",
       "      <td>42.2</td>\n",
       "      <td>154.7</td>\n",
       "      <td>17.6</td>\n",
       "      <td>63.8</td>\n",
       "      <td>85.0</td>\n",
       "      <td>0.412411</td>\n",
       "      <td>0.750588</td>\n",
       "    </tr>\n",
       "    <tr>\n",
       "      <th>2</th>\n",
       "      <td>109265.0</td>\n",
       "      <td>12.0</td>\n",
       "      <td>89.3</td>\n",
       "      <td>15.0</td>\n",
       "      <td>41.2</td>\n",
       "      <td>NaN</td>\n",
       "      <td>0.461366</td>\n",
       "      <td>NaN</td>\n",
       "    </tr>\n",
       "    <tr>\n",
       "      <th>3</th>\n",
       "      <td>109266.0</td>\n",
       "      <td>97.1</td>\n",
       "      <td>160.2</td>\n",
       "      <td>37.8</td>\n",
       "      <td>117.9</td>\n",
       "      <td>126.1</td>\n",
       "      <td>0.735955</td>\n",
       "      <td>0.934972</td>\n",
       "    </tr>\n",
       "    <tr>\n",
       "      <th>4</th>\n",
       "      <td>109269.0</td>\n",
       "      <td>13.6</td>\n",
       "      <td>NaN</td>\n",
       "      <td>NaN</td>\n",
       "      <td>NaN</td>\n",
       "      <td>NaN</td>\n",
       "      <td>NaN</td>\n",
       "      <td>NaN</td>\n",
       "    </tr>\n",
       "  </tbody>\n",
       "</table>\n",
       "</div>"
      ],
      "text/plain": [
       "Dataset P_BMX\n",
       "   Variable     Type  Length Format Informat                       Label  \\\n",
       "#                                                                          \n",
       "1      SEQN  Numeric       8                  Respondent sequence number   \n",
       "2     BMXWT  Numeric       8                                 Weight (kg)   \n",
       "3     BMXHT  Numeric       8                        Standing Height (cm)   \n",
       "4    BMXBMI  Numeric       8                   Body Mass Index (kg/m**2)   \n",
       "5  BMXWAIST  Numeric       8                    Waist Circumference (cm)   \n",
       "6    BMXHIP  Numeric       8                      Hip Circumference (cm)   \n",
       "7      WHtR  Numeric       8                    Waist Circumference (cm)   \n",
       "8       WHR  Numeric       8                    Waist Circumference (cm)   \n",
       "\n",
       "   Position  \n",
       "#            \n",
       "1         0  \n",
       "2        16  \n",
       "3        24  \n",
       "4        32  \n",
       "5        40  \n",
       "6        48  \n",
       "7        56  \n",
       "8        64  \n",
       "\n",
       "       SEQN  BMXWT  BMXHT  BMXBMI  BMXWAIST  BMXHIP      WHtR       WHR\n",
       "0  109263.0    NaN    NaN     NaN       NaN     NaN       NaN       NaN\n",
       "1  109264.0   42.2  154.7    17.6      63.8    85.0  0.412411  0.750588\n",
       "2  109265.0   12.0   89.3    15.0      41.2     NaN  0.461366       NaN\n",
       "3  109266.0   97.1  160.2    37.8     117.9   126.1  0.735955  0.934972\n",
       "4  109269.0   13.6    NaN     NaN       NaN     NaN       NaN       NaN\n",
       "name: P_BMX, dataset_label: Body Measures, created: 2021-03-08 07:52:24, modified: 2021-03-08 07:52:24, sas_os: W32_8PRO, sas_version: 9.4"
      ]
     },
     "execution_count": 6,
     "metadata": {},
     "output_type": "execute_result"
    }
   ],
   "source": [
    "df.head()"
   ]
  },
  {
   "cell_type": "code",
   "execution_count": null,
   "metadata": {},
   "outputs": [],
   "source": []
  }
 ],
 "metadata": {
  "kernelspec": {
   "display_name": "envStudy",
   "language": "python",
   "name": "python3"
  },
  "language_info": {
   "codemirror_mode": {
    "name": "ipython",
    "version": 3
   },
   "file_extension": ".py",
   "mimetype": "text/x-python",
   "name": "python",
   "nbconvert_exporter": "python",
   "pygments_lexer": "ipython3",
   "version": "3.8.18"
  }
 },
 "nbformat": 4,
 "nbformat_minor": 2
}
